{
 "cells": [
  {
   "cell_type": "code",
   "execution_count": 93,
   "metadata": {
    "collapsed": true
   },
   "outputs": [],
   "source": [
    "import torch.nn as nn\n",
    "import torch\n",
    "from torch import optim\n",
    "import copy\n",
    "import pickle\n",
    "import random\n",
    "import numpy as np\n",
    "\n",
    "from sim_data_generation import  StateActionTransition\n",
    "from src.envs.envs import BlackOilEnv\n",
    "\n",
    "WEIGHT, HEIGHT = 80, 40\n",
    "\n",
    "device = torch.device(\"cuda\")"
   ]
  },
  {
   "cell_type": "code",
   "execution_count": 94,
   "outputs": [],
   "source": [
    "with open(\"saved_results_5.pkl\", \"rb\") as f:\n",
    "    data = pickle.load(f)\n",
    "\n",
    "res = []\n",
    "\n",
    "for i in data:\n",
    "    for j in i:\n",
    "        res.append(j)\n",
    "\n",
    "example_fields = [i.state for i in res]\n",
    "example_dqn = res[1]\n",
    "example_field = example_dqn.state"
   ],
   "metadata": {
    "collapsed": false,
    "pycharm": {
     "name": "#%%\n"
    }
   }
  },
  {
   "cell_type": "code",
   "execution_count": 95,
   "outputs": [
    {
     "data": {
      "text/plain": "array([[[1.80579588e+00, 1.56305696e+00, 3.25635336e-12, ...,\n         9.35601278e-24, 2.82256183e+00, 0.00000000e+00],\n        [1.80394850e+00, 1.55744098e+00, 2.43528046e-11, ...,\n         5.22175017e-22, 2.80954332e+00, 0.00000000e+00],\n        [1.80210807e+00, 1.55167870e+00, 1.61212636e-10, ...,\n         2.28362679e-20, 2.79629271e+00, 0.00000000e+00],\n        ...,\n        [1.77916384e+00, 1.39540629e+00, 3.59415496e-06, ...,\n         1.22040102e-11, 2.48265640e+00, 0.00000000e+00],\n        [1.77989426e+00, 1.39377292e+00, 1.01229167e-06, ...,\n         9.68349180e-13, 2.48076843e+00, 0.00000000e+00],\n        [1.78098566e+00, 1.39266113e+00, 2.45708847e-07, ...,\n         5.70606246e-14, 2.48030950e+00, 0.00000000e+00]],\n\n       [[1.80381408e+00, 1.55993263e+00, 1.32069747e-11, ...,\n         1.54102199e-22, 2.81382845e+00, 0.00000000e+00],\n        [1.80174353e+00, 1.55418424e+00, 9.87702476e-11, ...,\n         8.60044887e-21, 2.80024139e+00, 0.00000000e+00],\n        [1.79966098e+00, 1.54827478e+00, 6.53859494e-10, ...,\n         3.76113563e-19, 2.78636971e+00, 0.00000000e+00],\n        ...,\n        [1.77238075e+00, 1.39152618e+00, 1.47895453e-05, ...,\n         2.06266062e-10, 2.46631420e+00, 0.00000000e+00],\n        [1.77320722e+00, 1.39022233e+00, 4.16657992e-06, ...,\n         1.63730603e-11, 2.46515228e+00, 0.00000000e+00],\n        [1.77443008e+00, 1.38939598e+00, 1.01156765e-06, ...,\n         9.65127611e-13, 2.46538601e+00, 0.00000000e+00]],\n\n       [[1.80195787e+00, 1.55704988e+00, 4.74078710e-11, ...,\n         1.98874374e-21, 2.80573829e+00, 0.00000000e+00],\n        [1.79966312e+00, 1.55118488e+00, 3.54549658e-10, ...,\n         1.10988412e-19, 2.79161022e+00, 0.00000000e+00],\n        [1.79733511e+00, 1.54514422e+00, 2.34715798e-09, ...,\n         4.85360050e-18, 2.77714197e+00, 0.00000000e+00],\n        ...,\n        [1.76538105e+00, 1.38842712e+00, 5.24602486e-05, ...,\n         2.58988738e-09, 2.45110291e+00, 0.00000000e+00],\n        [1.76632515e+00, 1.38746352e+00, 1.47833805e-05, ...,\n         2.05664228e-10, 2.45071171e+00, 0.00000000e+00],\n        [1.76770528e+00, 1.38691968e+00, 3.58993923e-06, ...,\n         1.21272136e-11, 2.45166524e+00, 0.00000000e+00]],\n\n       ...,\n\n       [[1.84109583e+00, 1.57100346e+00, 1.35370307e-17, ...,\n         1.85349738e-34, 2.89236793e+00, 0.00000000e+00],\n        [1.83926373e+00, 1.56990776e+00, 1.14358218e-16, ...,\n         1.32261588e-32, 2.88747440e+00, 0.00000000e+00],\n        [1.83734208e+00, 1.56882679e+00, 8.65908751e-16, ...,\n         7.58239907e-31, 2.88247147e+00, 0.00000000e+00],\n        ...,\n        [1.78009015e+00, 1.47220144e+00, 1.79432164e-05, ...,\n         2.76986620e-10, 2.62065129e+00, 0.00000000e+00],\n        [1.78212187e+00, 1.46980760e+00, 4.20114351e-06, ...,\n         1.51789706e-11, 2.61937627e+00, 0.00000000e+00],\n        [1.78409149e+00, 1.46748271e+00, 8.62610261e-07, ...,\n         6.39742023e-13, 2.61812343e+00, 0.00000000e+00]],\n\n       [[1.84216653e+00, 1.57154833e+00, 1.88485237e-18, ...,\n         3.60013493e-36, 2.89505374e+00, 0.00000000e+00],\n        [1.84030605e+00, 1.57051979e+00, 1.59246393e-17, ...,\n         2.56922187e-34, 2.89023707e+00, 0.00000000e+00],\n        [1.83835177e+00, 1.56950169e+00, 1.20593609e-16, ...,\n         1.47303818e-32, 2.88529620e+00, 0.00000000e+00],\n        ...,\n        [1.78033904e+00, 1.47184874e+00, 7.46191433e-06, ...,\n         4.77830294e-11, 2.62038976e+00, 0.00000000e+00],\n        [1.78258400e+00, 1.46947934e+00, 1.78485898e-06, ...,\n         2.73316092e-12, 2.61947036e+00, 0.00000000e+00],\n        [1.78474460e+00, 1.46718539e+00, 3.74101444e-07, ...,\n         1.20042326e-13, 2.61855120e+00, 0.00000000e+00]],\n\n       [[1.84319530e+00, 1.57202945e+00, 2.35241595e-19, ...,\n         5.61762710e-38, 2.89755729e+00, 0.00000000e+00],\n        [1.84130614e+00, 1.57106351e+00, 1.98771078e-18, ...,\n         4.00934419e-36, 2.89280889e+00, 0.00000000e+00],\n        [1.83931941e+00, 1.57010416e+00, 1.50541410e-17, ...,\n         2.29890710e-34, 2.88792305e+00, 0.00000000e+00],\n        ...,\n        [1.78049835e+00, 1.47139966e+00, 2.81205253e-06, ...,\n         6.76897655e-12, 2.61982467e+00, 0.00000000e+00],\n        [1.78293003e+00, 1.46905588e+00, 6.83597352e-07, ...,\n         3.99940901e-13, 2.61922385e+00, 0.00000000e+00],\n        [1.78526191e+00, 1.46679261e+00, 1.45681077e-07, ...,\n         1.81605854e-14, 2.61860896e+00, 0.00000000e+00]]])"
     },
     "execution_count": 95,
     "metadata": {},
     "output_type": "execute_result"
    }
   ],
   "source": [
    "example_field"
   ],
   "metadata": {
    "collapsed": false,
    "pycharm": {
     "name": "#%%\n"
    }
   }
  },
  {
   "cell_type": "code",
   "execution_count": 98,
   "outputs": [
    {
     "data": {
      "text/plain": "263692"
     },
     "execution_count": 98,
     "metadata": {},
     "output_type": "execute_result"
    }
   ],
   "source": [
    "import importlib\n",
    "import unet_model\n",
    "unet_module = importlib.reload(unet_model)\n",
    "\n",
    "model = unet_model.UNet2()\n",
    "model.to_cuda()\n",
    "\n",
    "import numpy as np\n",
    "model_parameters = filter(lambda p: p.requires_grad, model.parameters())\n",
    "params = sum([np.prod(p.size()) for p in model_parameters])\n",
    "params"
   ],
   "metadata": {
    "collapsed": false,
    "pycharm": {
     "name": "#%%\n"
    }
   }
  },
  {
   "cell_type": "code",
   "execution_count": 138,
   "outputs": [],
   "source": [
    "def create_new_model(ModelClass: unet_model.UNet2):\n",
    "    model = ModelClass()\n",
    "    target_model = ModelClass()\n",
    "\n",
    "    #Загружаем модель на устройство, определенное в самом начале (GPU или CPU)\n",
    "    model.to_cuda()\n",
    "    target_model.to_cuda()\n",
    "\n",
    "    #Сразу зададим оптимизатор, с помощью которого будем обновлять веса модели\n",
    "    optimizer = optim.Adam(model.parameters(), lr=3e-4)\n",
    "\n",
    "    return model, target_model, optimizer\n",
    "\n",
    "\n",
    "def run_model(state, model):\n",
    "    model_input = torch.FloatTensor(state).to(device)\n",
    "    model_input = model_input.permute(0, 3, 1, 2)\n",
    "    model_output = model(model_input)\n",
    "    model_output = torch.flatten(model_output, start_dim=1)\n",
    "    return model_output\n",
    "\n",
    "\n",
    "def select_action(state, model, epsilon=0.05):\n",
    "    if random.random() < epsilon:\n",
    "        return [(random.randint(0, WEIGHT-1), random.randint(0, HEIGHT-1))]\n",
    "    actions_indexes = run_model(state, model).cpu().detach().numpy().argmax(1)\n",
    "\n",
    "    actions = []\n",
    "    for index in actions_indexes:\n",
    "        x = index // WEIGHT\n",
    "        y = index % HEIGHT\n",
    "        actions.append((x, y))\n",
    "\n",
    "    return actions\n",
    "\n",
    "def get_max_q(state, model):\n",
    "    model_output = run_model(state, model)\n",
    "\n",
    "    # находим максимальное значение - это и будет q функция\n",
    "    return model_output.max(1).values.view(-1)    # [BATCH_SIZE]"
   ],
   "metadata": {
    "collapsed": false,
    "pycharm": {
     "name": "#%%\n"
    }
   }
  },
  {
   "cell_type": "code",
   "execution_count": 139,
   "outputs": [],
   "source": [
    "input_example = np.stack([example_field, example_field])\n",
    "input_example = example_field[np.newaxis, ...]"
   ],
   "metadata": {
    "collapsed": false,
    "pycharm": {
     "name": "#%%\n"
    }
   }
  },
  {
   "cell_type": "code",
   "execution_count": 140,
   "outputs": [
    {
     "data": {
      "text/plain": "[(1, 3)]"
     },
     "execution_count": 140,
     "metadata": {},
     "output_type": "execute_result"
    }
   ],
   "source": [
    "select_action(input_example, model)"
   ],
   "metadata": {
    "collapsed": false,
    "pycharm": {
     "name": "#%%\n"
    }
   }
  },
  {
   "cell_type": "code",
   "execution_count": 141,
   "outputs": [
    {
     "data": {
      "text/plain": "tensor([3.8901], device='cuda:0', grad_fn=<ViewBackward0>)"
     },
     "execution_count": 141,
     "metadata": {},
     "output_type": "execute_result"
    }
   ],
   "source": [
    "get_max_q(input_example, model)"
   ],
   "metadata": {
    "collapsed": false,
    "pycharm": {
     "name": "#%%\n"
    }
   }
  },
  {
   "cell_type": "code",
   "execution_count": 141,
   "outputs": [],
   "source": [],
   "metadata": {
    "collapsed": false,
    "pycharm": {
     "name": "#%%\n"
    }
   }
  },
  {
   "cell_type": "code",
   "execution_count": 153,
   "outputs": [],
   "source": [
    "import torch.nn.functional as F\n",
    "\n",
    "\n",
    "gamma = 0.99\n",
    "def fit(batch, model, target_model, optimizer):\n",
    "    state, action, reward, next_state, done = batch\n",
    "\n",
    "    # преобразуем внутри функций\n",
    "    # state = torch.tensor(state).to(device).float()\n",
    "    # next_state = torch.tensor(next_state).to(device).float()\n",
    "\n",
    "    state = np.array(state)\n",
    "    next_state = np.array(next_state)\n",
    "    reward = torch.tensor(reward).to(device).float()\n",
    "    action = torch.tensor(action).to(device)\n",
    "    done = torch.tensor(done).to(device)\n",
    "\n",
    "    # Считаем то, какие значения должна выдавать наша сеть\n",
    "    with torch.no_grad():\n",
    "        # Выбираем максимальное из значений Q-function для следующего состояния\n",
    "        target_q = get_max_q(next_state, target_model)\n",
    "        target_q[done] = 0\n",
    "\n",
    "    target_q = reward + target_q * gamma\n",
    "\n",
    "\n",
    "    flatten_index = torch.LongTensor([i[1] * HEIGHT + i[0] for i in action]).to(device)\n",
    "    flatten_index = torch.unsqueeze(flatten_index, -1)\n",
    "\n",
    "    q = run_model(state, model).gather(1, flatten_index)\n",
    "\n",
    "    loss = F.mse_loss(q, target_q.unsqueeze(1))\n",
    "\n",
    "    # Очищаем текущие градиенты внутри сети\n",
    "    optimizer.zero_grad()\n",
    "\n",
    "    # Применяем обратное распространение ошибки\n",
    "    loss.backward()\n",
    "\n",
    "    # Ограничиваем значения градиента. Необходимо, чтобы обновления не были слишком большими\n",
    "    for param in model.parameters():\n",
    "        param.grad.data.clamp_(-1, 1)\n",
    "\n",
    "    # Делаем шаг оптимизации\n",
    "    optimizer.step()\n",
    "\n",
    "    print(\"model update... Ok\")"
   ],
   "metadata": {
    "collapsed": false,
    "pycharm": {
     "name": "#%%\n"
    }
   }
  },
  {
   "cell_type": "code",
   "execution_count": 154,
   "outputs": [],
   "source": [
    "class Memory:\n",
    "    def __init__(self, capacity):\n",
    "        self.capacity = capacity\n",
    "        self.memory = []\n",
    "        self.position = 0\n",
    "\n",
    "    def push(self, element: StateActionTransition):\n",
    "        \"\"\"Сохраняет элемент в циклический буфер\"\"\"\n",
    "        if len(self.memory) < self.capacity:\n",
    "            self.memory.append(None)\n",
    "        self.memory[self.position] = element\n",
    "        self.position = (self.position + 1) % self.capacity\n",
    "\n",
    "    def sample(self, batch_size):\n",
    "        \"\"\"Возвращает случайную выборку указанного размера\"\"\"\n",
    "        return list(zip(*random.sample(self.memory, batch_size)))\n",
    "\n",
    "    def __len__(self):\n",
    "        return len(self.memory)"
   ],
   "metadata": {
    "collapsed": false,
    "pycharm": {
     "name": "#%%\n"
    }
   }
  },
  {
   "cell_type": "code",
   "execution_count": 155,
   "outputs": [],
   "source": [
    "def make_reward_number(reward) -> float:\n",
    "    if not isinstance(reward, (float, np.float_)):\n",
    "        return reward[0]\n",
    "    return reward"
   ],
   "metadata": {
    "collapsed": false,
    "pycharm": {
     "name": "#%%\n"
    }
   }
  },
  {
   "cell_type": "code",
   "execution_count": 155,
   "outputs": [],
   "source": [],
   "metadata": {
    "collapsed": false,
    "pycharm": {
     "name": "#%%\n"
    }
   }
  },
  {
   "cell_type": "code",
   "execution_count": 156,
   "outputs": [
    {
     "data": {
      "text/plain": "[(1, 2, 3), (2, 3, 5), (3, 4, 6)]"
     },
     "execution_count": 156,
     "metadata": {},
     "output_type": "execute_result"
    }
   ],
   "source": [
    "mem = Memory(10)\n",
    "mem.push([1, 2, 3])\n",
    "mem.push([2, 3, 4])\n",
    "mem.push([3, 5, 6])\n",
    "mem.sample(3)"
   ],
   "metadata": {
    "collapsed": false,
    "pycharm": {
     "name": "#%%\n"
    }
   }
  },
  {
   "cell_type": "code",
   "execution_count": 156,
   "outputs": [],
   "source": [],
   "metadata": {
    "collapsed": false,
    "pycharm": {
     "name": "#%%\n"
    }
   }
  },
  {
   "cell_type": "code",
   "execution_count": 157,
   "outputs": [],
   "source": [
    "from tqdm import tqdm\n",
    "\n",
    "sampled_batch = None\n",
    "\n",
    "def train(env: BlackOilEnv):\n",
    "    global sampled_batch\n",
    "\n",
    "    #Количество обновлений model между обновлениями target model\n",
    "    target_update = 50\n",
    "\n",
    "    #Размер одного батча, который на вход принимает модель\n",
    "    batch_size = 4\n",
    "\n",
    "    #Количество шагов среды\n",
    "    max_steps = 5000\n",
    "\n",
    "    #Границы коэффициента exploration\n",
    "    epsilon = 0.25\n",
    "\n",
    "    #Создаем модель и буфер\n",
    "    memory = Memory(2000)\n",
    "    model, target_model, optimizer = create_new_model(unet_model.UNet2)\n",
    "    rewards_by_target_updates = []\n",
    "\n",
    "    env.reset()\n",
    "    for step in tqdm(range(max_steps)):\n",
    "        state = env.observation\n",
    "\n",
    "        #Делаем шаг в среде\n",
    "\n",
    "        model_input = state[np.newaxis, ...]        # добавляем размерность батча\n",
    "\n",
    "        action = select_action(model_input, model, epsilon)[0]\n",
    "\n",
    "        new_state, reward, done = env.step(action)\n",
    "        reward = make_reward_number(reward)\n",
    "\n",
    "        #Запоминаем опыт и, если нужно, перезапускаем среду\n",
    "        memory.push((state, action, reward, new_state, done))\n",
    "        if done:\n",
    "              env.reset()\n",
    "\n",
    "        #Градиентный спуск\n",
    "        if step > batch_size:\n",
    "            sampled_batch = memory.sample(batch_size)\n",
    "            fit(sampled_batch, model, target_model, optimizer)\n",
    "\n",
    "        if (step+1) % target_update == 0:\n",
    "            target_model = copy.deepcopy(model)\n",
    "\n",
    "            #Exploitation\n",
    "            state = env.reset()\n",
    "            done = False\n",
    "            total_reward = 0\n",
    "            while not done:\n",
    "                model_input = state[np.newaxis, ...]        # добавляем размерность батча\n",
    "\n",
    "                action = select_action(model_input, target_model, epsilon=0)[0]\n",
    "\n",
    "                state, reward, done = env.step(action)\n",
    "                reward = make_reward_number(reward)\n",
    "                total_reward += reward\n",
    "            done = False\n",
    "            state = env.reset()\n",
    "            print(f\"Testing... Get reward: {total_reward}\")\n",
    "            rewards_by_target_updates.append(total_reward)\n",
    "\n",
    "    return rewards_by_target_updates"
   ],
   "metadata": {
    "collapsed": false,
    "pycharm": {
     "name": "#%%\n"
    }
   }
  },
  {
   "cell_type": "code",
   "execution_count": 158,
   "outputs": [],
   "source": [
    "from src.envs.envs import BlackOilEnv\n",
    "env = BlackOilEnv(days=3)"
   ],
   "metadata": {
    "collapsed": false,
    "pycharm": {
     "name": "#%%\n"
    }
   }
  },
  {
   "cell_type": "code",
   "execution_count": null,
   "outputs": [
    {
     "name": "stderr",
     "output_type": "stream",
     "text": [
      "  0%|          | 6/5000 [00:37<8:39:54,  6.25s/it]"
     ]
    },
    {
     "name": "stdout",
     "output_type": "stream",
     "text": [
      "model update... Ok\n"
     ]
    },
    {
     "name": "stderr",
     "output_type": "stream",
     "text": [
      "  0%|          | 7/5000 [00:43<8:48:56,  6.36s/it]"
     ]
    },
    {
     "name": "stdout",
     "output_type": "stream",
     "text": [
      "model update... Ok\n"
     ]
    },
    {
     "name": "stderr",
     "output_type": "stream",
     "text": [
      "  0%|          | 8/5000 [00:50<8:56:56,  6.45s/it]"
     ]
    },
    {
     "name": "stdout",
     "output_type": "stream",
     "text": [
      "model update... Ok\n"
     ]
    },
    {
     "name": "stderr",
     "output_type": "stream",
     "text": [
      "  0%|          | 9/5000 [00:56<8:46:06,  6.32s/it]"
     ]
    },
    {
     "name": "stdout",
     "output_type": "stream",
     "text": [
      "model update... Ok\n"
     ]
    },
    {
     "name": "stderr",
     "output_type": "stream",
     "text": [
      "  0%|          | 10/5000 [01:02<8:27:56,  6.11s/it]"
     ]
    },
    {
     "name": "stdout",
     "output_type": "stream",
     "text": [
      "model update... Ok\n"
     ]
    },
    {
     "name": "stderr",
     "output_type": "stream",
     "text": [
      "  0%|          | 11/5000 [01:08<8:40:15,  6.26s/it]"
     ]
    },
    {
     "name": "stdout",
     "output_type": "stream",
     "text": [
      "model update... Ok\n"
     ]
    },
    {
     "name": "stderr",
     "output_type": "stream",
     "text": [
      "  0%|          | 12/5000 [01:14<8:22:55,  6.05s/it]"
     ]
    },
    {
     "name": "stdout",
     "output_type": "stream",
     "text": [
      "model update... Ok\n"
     ]
    },
    {
     "name": "stderr",
     "output_type": "stream",
     "text": [
      "  0%|          | 13/5000 [01:20<8:26:37,  6.10s/it]"
     ]
    },
    {
     "name": "stdout",
     "output_type": "stream",
     "text": [
      "model update... Ok\n"
     ]
    },
    {
     "name": "stderr",
     "output_type": "stream",
     "text": [
      "  0%|          | 14/5000 [01:26<8:23:01,  6.05s/it]"
     ]
    },
    {
     "name": "stdout",
     "output_type": "stream",
     "text": [
      "model update... Ok\n"
     ]
    },
    {
     "name": "stderr",
     "output_type": "stream",
     "text": [
      "  0%|          | 15/5000 [01:31<8:06:15,  5.85s/it]"
     ]
    },
    {
     "name": "stdout",
     "output_type": "stream",
     "text": [
      "model update... Ok\n"
     ]
    },
    {
     "name": "stderr",
     "output_type": "stream",
     "text": [
      "  0%|          | 16/5000 [01:37<8:04:51,  5.84s/it]"
     ]
    },
    {
     "name": "stdout",
     "output_type": "stream",
     "text": [
      "model update... Ok\n"
     ]
    },
    {
     "name": "stderr",
     "output_type": "stream",
     "text": [
      "  0%|          | 17/5000 [01:43<8:11:44,  5.92s/it]"
     ]
    },
    {
     "name": "stdout",
     "output_type": "stream",
     "text": [
      "model update... Ok\n"
     ]
    },
    {
     "name": "stderr",
     "output_type": "stream",
     "text": [
      "  0%|          | 18/5000 [01:49<8:10:17,  5.90s/it]"
     ]
    },
    {
     "name": "stdout",
     "output_type": "stream",
     "text": [
      "model update... Ok\n"
     ]
    },
    {
     "name": "stderr",
     "output_type": "stream",
     "text": [
      "  0%|          | 19/5000 [01:56<8:29:14,  6.13s/it]"
     ]
    },
    {
     "name": "stdout",
     "output_type": "stream",
     "text": [
      "model update... Ok\n"
     ]
    },
    {
     "name": "stderr",
     "output_type": "stream",
     "text": [
      "  0%|          | 20/5000 [02:02<8:21:13,  6.04s/it]"
     ]
    },
    {
     "name": "stdout",
     "output_type": "stream",
     "text": [
      "model update... Ok\n"
     ]
    },
    {
     "name": "stderr",
     "output_type": "stream",
     "text": [
      "  0%|          | 21/5000 [02:08<8:18:54,  6.01s/it]"
     ]
    },
    {
     "name": "stdout",
     "output_type": "stream",
     "text": [
      "model update... Ok\n"
     ]
    },
    {
     "name": "stderr",
     "output_type": "stream",
     "text": [
      "  0%|          | 22/5000 [02:12<7:44:50,  5.60s/it]"
     ]
    },
    {
     "name": "stdout",
     "output_type": "stream",
     "text": [
      "model update... Ok\n"
     ]
    },
    {
     "name": "stderr",
     "output_type": "stream",
     "text": [
      "  0%|          | 23/5000 [02:18<7:48:59,  5.65s/it]"
     ]
    },
    {
     "name": "stdout",
     "output_type": "stream",
     "text": [
      "model update... Ok\n"
     ]
    },
    {
     "name": "stderr",
     "output_type": "stream",
     "text": [
      "  0%|          | 24/5000 [02:23<7:37:38,  5.52s/it]"
     ]
    },
    {
     "name": "stdout",
     "output_type": "stream",
     "text": [
      "model update... Ok\n"
     ]
    },
    {
     "name": "stderr",
     "output_type": "stream",
     "text": [
      "  0%|          | 25/5000 [02:29<7:35:41,  5.50s/it]"
     ]
    },
    {
     "name": "stdout",
     "output_type": "stream",
     "text": [
      "model update... Ok\n"
     ]
    },
    {
     "name": "stderr",
     "output_type": "stream",
     "text": [
      "  1%|          | 26/5000 [02:34<7:40:16,  5.55s/it]"
     ]
    },
    {
     "name": "stdout",
     "output_type": "stream",
     "text": [
      "model update... Ok\n"
     ]
    },
    {
     "name": "stderr",
     "output_type": "stream",
     "text": [
      "  1%|          | 27/5000 [02:40<7:38:09,  5.53s/it]"
     ]
    },
    {
     "name": "stdout",
     "output_type": "stream",
     "text": [
      "model update... Ok\n"
     ]
    },
    {
     "name": "stderr",
     "output_type": "stream",
     "text": [
      "  1%|          | 28/5000 [02:46<7:47:21,  5.64s/it]"
     ]
    },
    {
     "name": "stdout",
     "output_type": "stream",
     "text": [
      "model update... Ok\n"
     ]
    },
    {
     "name": "stderr",
     "output_type": "stream",
     "text": [
      "  1%|          | 29/5000 [02:51<7:26:37,  5.39s/it]"
     ]
    },
    {
     "name": "stdout",
     "output_type": "stream",
     "text": [
      "model update... Ok\n"
     ]
    },
    {
     "name": "stderr",
     "output_type": "stream",
     "text": [
      "  1%|          | 30/5000 [02:55<7:11:40,  5.21s/it]"
     ]
    },
    {
     "name": "stdout",
     "output_type": "stream",
     "text": [
      "model update... Ok\n"
     ]
    },
    {
     "name": "stderr",
     "output_type": "stream",
     "text": [
      "  1%|          | 31/5000 [03:01<7:33:05,  5.47s/it]"
     ]
    },
    {
     "name": "stdout",
     "output_type": "stream",
     "text": [
      "model update... Ok\n"
     ]
    },
    {
     "name": "stderr",
     "output_type": "stream",
     "text": [
      "  1%|          | 32/5000 [03:07<7:30:48,  5.44s/it]"
     ]
    },
    {
     "name": "stdout",
     "output_type": "stream",
     "text": [
      "model update... Ok\n"
     ]
    },
    {
     "name": "stderr",
     "output_type": "stream",
     "text": [
      "  1%|          | 33/5000 [03:12<7:30:42,  5.44s/it]"
     ]
    },
    {
     "name": "stdout",
     "output_type": "stream",
     "text": [
      "model update... Ok\n"
     ]
    },
    {
     "name": "stderr",
     "output_type": "stream",
     "text": [
      "  1%|          | 34/5000 [03:18<7:43:39,  5.60s/it]"
     ]
    },
    {
     "name": "stdout",
     "output_type": "stream",
     "text": [
      "model update... Ok\n"
     ]
    },
    {
     "name": "stderr",
     "output_type": "stream",
     "text": [
      "  1%|          | 35/5000 [03:24<7:43:11,  5.60s/it]"
     ]
    },
    {
     "name": "stdout",
     "output_type": "stream",
     "text": [
      "model update... Ok\n"
     ]
    },
    {
     "name": "stderr",
     "output_type": "stream",
     "text": [
      "  1%|          | 36/5000 [03:30<7:58:59,  5.79s/it]"
     ]
    },
    {
     "name": "stdout",
     "output_type": "stream",
     "text": [
      "model update... Ok\n"
     ]
    },
    {
     "name": "stderr",
     "output_type": "stream",
     "text": [
      "  1%|          | 37/5000 [03:36<8:11:39,  5.94s/it]"
     ]
    },
    {
     "name": "stdout",
     "output_type": "stream",
     "text": [
      "model update... Ok\n"
     ]
    },
    {
     "name": "stderr",
     "output_type": "stream",
     "text": [
      "  1%|          | 38/5000 [03:43<8:21:24,  6.06s/it]"
     ]
    },
    {
     "name": "stdout",
     "output_type": "stream",
     "text": [
      "model update... Ok\n"
     ]
    },
    {
     "name": "stderr",
     "output_type": "stream",
     "text": [
      "  1%|          | 39/5000 [03:49<8:33:08,  6.21s/it]"
     ]
    },
    {
     "name": "stdout",
     "output_type": "stream",
     "text": [
      "model update... Ok\n"
     ]
    },
    {
     "name": "stderr",
     "output_type": "stream",
     "text": [
      "  1%|          | 40/5000 [03:56<8:42:20,  6.32s/it]"
     ]
    },
    {
     "name": "stdout",
     "output_type": "stream",
     "text": [
      "model update... Ok\n"
     ]
    },
    {
     "name": "stderr",
     "output_type": "stream",
     "text": [
      "  1%|          | 41/5000 [04:02<8:47:55,  6.39s/it]"
     ]
    },
    {
     "name": "stdout",
     "output_type": "stream",
     "text": [
      "model update... Ok\n"
     ]
    },
    {
     "name": "stderr",
     "output_type": "stream",
     "text": [
      "  1%|          | 42/5000 [04:08<8:36:10,  6.25s/it]"
     ]
    },
    {
     "name": "stdout",
     "output_type": "stream",
     "text": [
      "model update... Ok\n"
     ]
    },
    {
     "name": "stderr",
     "output_type": "stream",
     "text": [
      "  1%|          | 43/5000 [04:14<8:24:50,  6.11s/it]"
     ]
    },
    {
     "name": "stdout",
     "output_type": "stream",
     "text": [
      "model update... Ok\n"
     ]
    },
    {
     "name": "stderr",
     "output_type": "stream",
     "text": [
      "  1%|          | 44/5000 [04:20<8:15:07,  5.99s/it]"
     ]
    },
    {
     "name": "stdout",
     "output_type": "stream",
     "text": [
      "model update... Ok\n"
     ]
    },
    {
     "name": "stderr",
     "output_type": "stream",
     "text": [
      "  1%|          | 45/5000 [04:26<8:21:21,  6.07s/it]"
     ]
    },
    {
     "name": "stdout",
     "output_type": "stream",
     "text": [
      "model update... Ok\n"
     ]
    },
    {
     "name": "stderr",
     "output_type": "stream",
     "text": [
      "  1%|          | 46/5000 [04:32<8:10:33,  5.94s/it]"
     ]
    },
    {
     "name": "stdout",
     "output_type": "stream",
     "text": [
      "model update... Ok\n"
     ]
    },
    {
     "name": "stderr",
     "output_type": "stream",
     "text": [
      "  1%|          | 47/5000 [04:38<8:11:00,  5.95s/it]"
     ]
    },
    {
     "name": "stdout",
     "output_type": "stream",
     "text": [
      "model update... Ok\n"
     ]
    },
    {
     "name": "stderr",
     "output_type": "stream",
     "text": [
      "  1%|          | 48/5000 [04:44<8:33:00,  6.22s/it]"
     ]
    },
    {
     "name": "stdout",
     "output_type": "stream",
     "text": [
      "model update... Ok\n"
     ]
    },
    {
     "name": "stderr",
     "output_type": "stream",
     "text": [
      "  1%|          | 49/5000 [04:50<8:27:37,  6.15s/it]"
     ]
    },
    {
     "name": "stdout",
     "output_type": "stream",
     "text": [
      "model update... Ok\n",
      "model update... Ok\n"
     ]
    },
    {
     "name": "stderr",
     "output_type": "stream",
     "text": [
      "  1%|          | 50/5000 [05:02<10:45:41,  7.83s/it]"
     ]
    },
    {
     "name": "stdout",
     "output_type": "stream",
     "text": [
      "Testing... Get reward: -0.5862330515792511\n"
     ]
    },
    {
     "name": "stderr",
     "output_type": "stream",
     "text": [
      "  1%|          | 51/5000 [05:08<9:54:16,  7.20s/it] "
     ]
    },
    {
     "name": "stdout",
     "output_type": "stream",
     "text": [
      "model update... Ok\n"
     ]
    },
    {
     "name": "stderr",
     "output_type": "stream",
     "text": [
      "  1%|          | 52/5000 [05:14<9:15:31,  6.74s/it]"
     ]
    },
    {
     "name": "stdout",
     "output_type": "stream",
     "text": [
      "model update... Ok\n"
     ]
    },
    {
     "name": "stderr",
     "output_type": "stream",
     "text": [
      "  1%|          | 53/5000 [05:19<8:54:54,  6.49s/it]"
     ]
    },
    {
     "name": "stdout",
     "output_type": "stream",
     "text": [
      "model update... Ok\n"
     ]
    },
    {
     "name": "stderr",
     "output_type": "stream",
     "text": [
      "  1%|          | 54/5000 [05:26<8:51:50,  6.45s/it]"
     ]
    },
    {
     "name": "stdout",
     "output_type": "stream",
     "text": [
      "model update... Ok\n"
     ]
    },
    {
     "name": "stderr",
     "output_type": "stream",
     "text": [
      "  1%|          | 55/5000 [05:31<8:23:39,  6.11s/it]"
     ]
    },
    {
     "name": "stdout",
     "output_type": "stream",
     "text": [
      "model update... Ok\n"
     ]
    },
    {
     "name": "stderr",
     "output_type": "stream",
     "text": [
      "  1%|          | 56/5000 [05:37<8:20:18,  6.07s/it]"
     ]
    },
    {
     "name": "stdout",
     "output_type": "stream",
     "text": [
      "model update... Ok\n"
     ]
    },
    {
     "name": "stderr",
     "output_type": "stream",
     "text": [
      "  1%|          | 57/5000 [05:42<8:00:47,  5.84s/it]"
     ]
    },
    {
     "name": "stdout",
     "output_type": "stream",
     "text": [
      "model update... Ok\n"
     ]
    },
    {
     "name": "stderr",
     "output_type": "stream",
     "text": [
      "  1%|          | 58/5000 [05:49<8:08:03,  5.93s/it]"
     ]
    },
    {
     "name": "stdout",
     "output_type": "stream",
     "text": [
      "model update... Ok\n"
     ]
    },
    {
     "name": "stderr",
     "output_type": "stream",
     "text": [
      "  1%|          | 59/5000 [05:55<8:24:00,  6.12s/it]"
     ]
    },
    {
     "name": "stdout",
     "output_type": "stream",
     "text": [
      "model update... Ok\n"
     ]
    },
    {
     "name": "stderr",
     "output_type": "stream",
     "text": [
      "  1%|          | 60/5000 [06:01<8:16:20,  6.03s/it]"
     ]
    },
    {
     "name": "stdout",
     "output_type": "stream",
     "text": [
      "model update... Ok\n"
     ]
    },
    {
     "name": "stderr",
     "output_type": "stream",
     "text": [
      "  1%|          | 61/5000 [06:07<8:11:22,  5.97s/it]"
     ]
    },
    {
     "name": "stdout",
     "output_type": "stream",
     "text": [
      "model update... Ok\n"
     ]
    },
    {
     "name": "stderr",
     "output_type": "stream",
     "text": [
      "  1%|          | 62/5000 [06:13<8:05:17,  5.90s/it]"
     ]
    },
    {
     "name": "stdout",
     "output_type": "stream",
     "text": [
      "model update... Ok\n"
     ]
    },
    {
     "name": "stderr",
     "output_type": "stream",
     "text": [
      "  1%|▏         | 63/5000 [06:18<8:06:27,  5.91s/it]"
     ]
    },
    {
     "name": "stdout",
     "output_type": "stream",
     "text": [
      "model update... Ok\n"
     ]
    },
    {
     "name": "stderr",
     "output_type": "stream",
     "text": [
      "  1%|▏         | 64/5000 [06:24<7:47:01,  5.68s/it]"
     ]
    },
    {
     "name": "stdout",
     "output_type": "stream",
     "text": [
      "model update... Ok\n"
     ]
    },
    {
     "name": "stderr",
     "output_type": "stream",
     "text": [
      "  1%|▏         | 65/5000 [06:29<7:43:37,  5.64s/it]"
     ]
    },
    {
     "name": "stdout",
     "output_type": "stream",
     "text": [
      "model update... Ok\n"
     ]
    },
    {
     "name": "stderr",
     "output_type": "stream",
     "text": [
      "  1%|▏         | 66/5000 [06:35<7:45:15,  5.66s/it]"
     ]
    },
    {
     "name": "stdout",
     "output_type": "stream",
     "text": [
      "model update... Ok\n"
     ]
    },
    {
     "name": "stderr",
     "output_type": "stream",
     "text": [
      "  1%|▏         | 67/5000 [06:40<7:41:35,  5.61s/it]"
     ]
    },
    {
     "name": "stdout",
     "output_type": "stream",
     "text": [
      "model update... Ok\n"
     ]
    },
    {
     "name": "stderr",
     "output_type": "stream",
     "text": [
      "  1%|▏         | 68/5000 [06:46<7:47:08,  5.68s/it]"
     ]
    },
    {
     "name": "stdout",
     "output_type": "stream",
     "text": [
      "model update... Ok\n"
     ]
    },
    {
     "name": "stderr",
     "output_type": "stream",
     "text": [
      "  1%|▏         | 69/5000 [06:53<8:05:31,  5.91s/it]"
     ]
    },
    {
     "name": "stdout",
     "output_type": "stream",
     "text": [
      "model update... Ok\n"
     ]
    },
    {
     "name": "stderr",
     "output_type": "stream",
     "text": [
      "  1%|▏         | 70/5000 [06:59<8:16:29,  6.04s/it]"
     ]
    },
    {
     "name": "stdout",
     "output_type": "stream",
     "text": [
      "model update... Ok\n"
     ]
    },
    {
     "name": "stderr",
     "output_type": "stream",
     "text": [
      "  1%|▏         | 71/5000 [07:05<8:15:46,  6.03s/it]"
     ]
    },
    {
     "name": "stdout",
     "output_type": "stream",
     "text": [
      "model update... Ok\n"
     ]
    },
    {
     "name": "stderr",
     "output_type": "stream",
     "text": [
      "  1%|▏         | 72/5000 [07:10<8:01:25,  5.86s/it]"
     ]
    },
    {
     "name": "stdout",
     "output_type": "stream",
     "text": [
      "model update... Ok\n"
     ]
    },
    {
     "name": "stderr",
     "output_type": "stream",
     "text": [
      "  1%|▏         | 73/5000 [07:16<8:03:33,  5.89s/it]"
     ]
    },
    {
     "name": "stdout",
     "output_type": "stream",
     "text": [
      "model update... Ok\n"
     ]
    },
    {
     "name": "stderr",
     "output_type": "stream",
     "text": [
      "  1%|▏         | 74/5000 [07:22<7:55:16,  5.79s/it]"
     ]
    },
    {
     "name": "stdout",
     "output_type": "stream",
     "text": [
      "model update... Ok\n"
     ]
    },
    {
     "name": "stderr",
     "output_type": "stream",
     "text": [
      "  2%|▏         | 75/5000 [07:28<7:56:58,  5.81s/it]"
     ]
    },
    {
     "name": "stdout",
     "output_type": "stream",
     "text": [
      "model update... Ok\n"
     ]
    },
    {
     "name": "stderr",
     "output_type": "stream",
     "text": [
      "  2%|▏         | 76/5000 [07:35<8:20:58,  6.10s/it]"
     ]
    },
    {
     "name": "stdout",
     "output_type": "stream",
     "text": [
      "model update... Ok\n"
     ]
    },
    {
     "name": "stderr",
     "output_type": "stream",
     "text": [
      "  2%|▏         | 77/5000 [07:41<8:20:18,  6.10s/it]"
     ]
    },
    {
     "name": "stdout",
     "output_type": "stream",
     "text": [
      "model update... Ok\n"
     ]
    },
    {
     "name": "stderr",
     "output_type": "stream",
     "text": [
      "  2%|▏         | 78/5000 [07:47<8:15:48,  6.04s/it]"
     ]
    },
    {
     "name": "stdout",
     "output_type": "stream",
     "text": [
      "model update... Ok\n"
     ]
    },
    {
     "name": "stderr",
     "output_type": "stream",
     "text": [
      "  2%|▏         | 79/5000 [07:52<7:58:47,  5.84s/it]"
     ]
    },
    {
     "name": "stdout",
     "output_type": "stream",
     "text": [
      "model update... Ok\n"
     ]
    },
    {
     "name": "stderr",
     "output_type": "stream",
     "text": [
      "  2%|▏         | 80/5000 [07:58<8:03:14,  5.89s/it]"
     ]
    },
    {
     "name": "stdout",
     "output_type": "stream",
     "text": [
      "model update... Ok\n"
     ]
    },
    {
     "name": "stderr",
     "output_type": "stream",
     "text": [
      "  2%|▏         | 81/5000 [08:04<7:54:26,  5.79s/it]"
     ]
    },
    {
     "name": "stdout",
     "output_type": "stream",
     "text": [
      "model update... Ok\n"
     ]
    },
    {
     "name": "stderr",
     "output_type": "stream",
     "text": [
      "  2%|▏         | 82/5000 [08:09<7:48:18,  5.71s/it]"
     ]
    },
    {
     "name": "stdout",
     "output_type": "stream",
     "text": [
      "model update... Ok\n"
     ]
    },
    {
     "name": "stderr",
     "output_type": "stream",
     "text": [
      "  2%|▏         | 83/5000 [08:15<8:02:21,  5.89s/it]"
     ]
    },
    {
     "name": "stdout",
     "output_type": "stream",
     "text": [
      "model update... Ok\n"
     ]
    },
    {
     "name": "stderr",
     "output_type": "stream",
     "text": [
      "  2%|▏         | 84/5000 [08:21<7:44:51,  5.67s/it]"
     ]
    },
    {
     "name": "stdout",
     "output_type": "stream",
     "text": [
      "model update... Ok\n"
     ]
    },
    {
     "name": "stderr",
     "output_type": "stream",
     "text": [
      "  2%|▏         | 85/5000 [08:26<7:47:47,  5.71s/it]"
     ]
    },
    {
     "name": "stdout",
     "output_type": "stream",
     "text": [
      "model update... Ok\n"
     ]
    },
    {
     "name": "stderr",
     "output_type": "stream",
     "text": [
      "  2%|▏         | 86/5000 [08:32<7:47:05,  5.70s/it]"
     ]
    },
    {
     "name": "stdout",
     "output_type": "stream",
     "text": [
      "model update... Ok\n"
     ]
    },
    {
     "name": "stderr",
     "output_type": "stream",
     "text": [
      "  2%|▏         | 87/5000 [08:38<8:00:55,  5.87s/it]"
     ]
    },
    {
     "name": "stdout",
     "output_type": "stream",
     "text": [
      "model update... Ok\n"
     ]
    },
    {
     "name": "stderr",
     "output_type": "stream",
     "text": [
      "  2%|▏         | 88/5000 [08:45<8:15:09,  6.05s/it]"
     ]
    },
    {
     "name": "stdout",
     "output_type": "stream",
     "text": [
      "model update... Ok\n"
     ]
    },
    {
     "name": "stderr",
     "output_type": "stream",
     "text": [
      "  2%|▏         | 89/5000 [08:50<7:50:57,  5.75s/it]"
     ]
    },
    {
     "name": "stdout",
     "output_type": "stream",
     "text": [
      "model update... Ok\n"
     ]
    },
    {
     "name": "stderr",
     "output_type": "stream",
     "text": [
      "  2%|▏         | 90/5000 [08:56<7:55:36,  5.81s/it]"
     ]
    },
    {
     "name": "stdout",
     "output_type": "stream",
     "text": [
      "model update... Ok\n"
     ]
    },
    {
     "name": "stderr",
     "output_type": "stream",
     "text": [
      "  2%|▏         | 91/5000 [09:02<7:57:24,  5.84s/it]"
     ]
    },
    {
     "name": "stdout",
     "output_type": "stream",
     "text": [
      "model update... Ok\n"
     ]
    },
    {
     "name": "stderr",
     "output_type": "stream",
     "text": [
      "  2%|▏         | 92/5000 [09:07<7:47:00,  5.71s/it]"
     ]
    },
    {
     "name": "stdout",
     "output_type": "stream",
     "text": [
      "model update... Ok\n"
     ]
    },
    {
     "name": "stderr",
     "output_type": "stream",
     "text": [
      "  2%|▏         | 93/5000 [09:13<7:54:26,  5.80s/it]"
     ]
    },
    {
     "name": "stdout",
     "output_type": "stream",
     "text": [
      "model update... Ok\n"
     ]
    },
    {
     "name": "stderr",
     "output_type": "stream",
     "text": [
      "  2%|▏         | 94/5000 [09:18<7:38:59,  5.61s/it]"
     ]
    },
    {
     "name": "stdout",
     "output_type": "stream",
     "text": [
      "model update... Ok\n"
     ]
    },
    {
     "name": "stderr",
     "output_type": "stream",
     "text": [
      "  2%|▏         | 95/5000 [09:23<7:25:38,  5.45s/it]"
     ]
    },
    {
     "name": "stdout",
     "output_type": "stream",
     "text": [
      "model update... Ok\n"
     ]
    },
    {
     "name": "stderr",
     "output_type": "stream",
     "text": [
      "  2%|▏         | 96/5000 [09:30<7:46:41,  5.71s/it]"
     ]
    },
    {
     "name": "stdout",
     "output_type": "stream",
     "text": [
      "model update... Ok\n"
     ]
    },
    {
     "name": "stderr",
     "output_type": "stream",
     "text": [
      "  2%|▏         | 97/5000 [09:37<8:17:27,  6.09s/it]"
     ]
    },
    {
     "name": "stdout",
     "output_type": "stream",
     "text": [
      "model update... Ok\n"
     ]
    },
    {
     "name": "stderr",
     "output_type": "stream",
     "text": [
      "  2%|▏         | 98/5000 [09:43<8:22:40,  6.15s/it]"
     ]
    },
    {
     "name": "stdout",
     "output_type": "stream",
     "text": [
      "model update... Ok\n"
     ]
    }
   ],
   "source": [
    "train(env)"
   ],
   "metadata": {
    "collapsed": false,
    "pycharm": {
     "name": "#%%\n",
     "is_executing": true
    }
   }
  },
  {
   "cell_type": "code",
   "execution_count": null,
   "outputs": [],
   "source": [],
   "metadata": {
    "collapsed": false,
    "pycharm": {
     "name": "#%%\n"
    }
   }
  },
  {
   "cell_type": "code",
   "execution_count": null,
   "outputs": [],
   "source": [],
   "metadata": {
    "collapsed": false,
    "pycharm": {
     "name": "#%%\n"
    }
   }
  }
 ],
 "metadata": {
  "kernelspec": {
   "display_name": "Python 3",
   "language": "python",
   "name": "python3"
  },
  "language_info": {
   "codemirror_mode": {
    "name": "ipython",
    "version": 2
   },
   "file_extension": ".py",
   "mimetype": "text/x-python",
   "name": "python",
   "nbconvert_exporter": "python",
   "pygments_lexer": "ipython2",
   "version": "2.7.6"
  }
 },
 "nbformat": 4,
 "nbformat_minor": 0
}