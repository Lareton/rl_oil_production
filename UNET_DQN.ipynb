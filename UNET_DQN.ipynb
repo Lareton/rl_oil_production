{
 "cells": [
  {
   "cell_type": "code",
   "execution_count": 3,
   "metadata": {
    "collapsed": true
   },
   "outputs": [],
   "source": [
    "import torch.nn as nn\n",
    "import torch\n",
    "from torch import optim\n",
    "import copy\n",
    "import pickle\n",
    "import random\n",
    "import numpy as np\n",
    "\n",
    "from sim_data_generation import  StateActionTransition\n",
    "from src.envs.envs import BlackOilEnv\n",
    "\n",
    "WEIGHT, HEIGHT = 80, 40\n",
    "\n",
    "device = torch.device(\"cuda\")"
   ]
  },
  {
   "cell_type": "code",
   "execution_count": 4,
   "outputs": [],
   "source": [
    "with open(\"saved_results_5.pkl\", \"rb\") as f:\n",
    "    data = pickle.load(f)\n",
    "\n",
    "res = []\n",
    "\n",
    "for i in data:\n",
    "    for j in i:\n",
    "        res.append(j)\n",
    "\n",
    "example_fields = [i.state for i in res]\n",
    "example_dqn = res[1]\n",
    "example_field = example_dqn.state"
   ],
   "metadata": {
    "collapsed": false,
    "pycharm": {
     "name": "#%%\n"
    }
   }
  },
  {
   "cell_type": "code",
   "execution_count": 5,
   "outputs": [
    {
     "data": {
      "text/plain": "array([[[1.80579588e+00, 1.56305696e+00, 3.25635336e-12, ...,\n         9.35601278e-24, 2.82256183e+00, 0.00000000e+00],\n        [1.80394850e+00, 1.55744098e+00, 2.43528046e-11, ...,\n         5.22175017e-22, 2.80954332e+00, 0.00000000e+00],\n        [1.80210807e+00, 1.55167870e+00, 1.61212636e-10, ...,\n         2.28362679e-20, 2.79629271e+00, 0.00000000e+00],\n        ...,\n        [1.77916384e+00, 1.39540629e+00, 3.59415496e-06, ...,\n         1.22040102e-11, 2.48265640e+00, 0.00000000e+00],\n        [1.77989426e+00, 1.39377292e+00, 1.01229167e-06, ...,\n         9.68349180e-13, 2.48076843e+00, 0.00000000e+00],\n        [1.78098566e+00, 1.39266113e+00, 2.45708847e-07, ...,\n         5.70606246e-14, 2.48030950e+00, 0.00000000e+00]],\n\n       [[1.80381408e+00, 1.55993263e+00, 1.32069747e-11, ...,\n         1.54102199e-22, 2.81382845e+00, 0.00000000e+00],\n        [1.80174353e+00, 1.55418424e+00, 9.87702476e-11, ...,\n         8.60044887e-21, 2.80024139e+00, 0.00000000e+00],\n        [1.79966098e+00, 1.54827478e+00, 6.53859494e-10, ...,\n         3.76113563e-19, 2.78636971e+00, 0.00000000e+00],\n        ...,\n        [1.77238075e+00, 1.39152618e+00, 1.47895453e-05, ...,\n         2.06266062e-10, 2.46631420e+00, 0.00000000e+00],\n        [1.77320722e+00, 1.39022233e+00, 4.16657992e-06, ...,\n         1.63730603e-11, 2.46515228e+00, 0.00000000e+00],\n        [1.77443008e+00, 1.38939598e+00, 1.01156765e-06, ...,\n         9.65127611e-13, 2.46538601e+00, 0.00000000e+00]],\n\n       [[1.80195787e+00, 1.55704988e+00, 4.74078710e-11, ...,\n         1.98874374e-21, 2.80573829e+00, 0.00000000e+00],\n        [1.79966312e+00, 1.55118488e+00, 3.54549658e-10, ...,\n         1.10988412e-19, 2.79161022e+00, 0.00000000e+00],\n        [1.79733511e+00, 1.54514422e+00, 2.34715798e-09, ...,\n         4.85360050e-18, 2.77714197e+00, 0.00000000e+00],\n        ...,\n        [1.76538105e+00, 1.38842712e+00, 5.24602486e-05, ...,\n         2.58988738e-09, 2.45110291e+00, 0.00000000e+00],\n        [1.76632515e+00, 1.38746352e+00, 1.47833805e-05, ...,\n         2.05664228e-10, 2.45071171e+00, 0.00000000e+00],\n        [1.76770528e+00, 1.38691968e+00, 3.58993923e-06, ...,\n         1.21272136e-11, 2.45166524e+00, 0.00000000e+00]],\n\n       ...,\n\n       [[1.84109583e+00, 1.57100346e+00, 1.35370307e-17, ...,\n         1.85349738e-34, 2.89236793e+00, 0.00000000e+00],\n        [1.83926373e+00, 1.56990776e+00, 1.14358218e-16, ...,\n         1.32261588e-32, 2.88747440e+00, 0.00000000e+00],\n        [1.83734208e+00, 1.56882679e+00, 8.65908751e-16, ...,\n         7.58239907e-31, 2.88247147e+00, 0.00000000e+00],\n        ...,\n        [1.78009015e+00, 1.47220144e+00, 1.79432164e-05, ...,\n         2.76986620e-10, 2.62065129e+00, 0.00000000e+00],\n        [1.78212187e+00, 1.46980760e+00, 4.20114351e-06, ...,\n         1.51789706e-11, 2.61937627e+00, 0.00000000e+00],\n        [1.78409149e+00, 1.46748271e+00, 8.62610261e-07, ...,\n         6.39742023e-13, 2.61812343e+00, 0.00000000e+00]],\n\n       [[1.84216653e+00, 1.57154833e+00, 1.88485237e-18, ...,\n         3.60013493e-36, 2.89505374e+00, 0.00000000e+00],\n        [1.84030605e+00, 1.57051979e+00, 1.59246393e-17, ...,\n         2.56922187e-34, 2.89023707e+00, 0.00000000e+00],\n        [1.83835177e+00, 1.56950169e+00, 1.20593609e-16, ...,\n         1.47303818e-32, 2.88529620e+00, 0.00000000e+00],\n        ...,\n        [1.78033904e+00, 1.47184874e+00, 7.46191433e-06, ...,\n         4.77830294e-11, 2.62038976e+00, 0.00000000e+00],\n        [1.78258400e+00, 1.46947934e+00, 1.78485898e-06, ...,\n         2.73316092e-12, 2.61947036e+00, 0.00000000e+00],\n        [1.78474460e+00, 1.46718539e+00, 3.74101444e-07, ...,\n         1.20042326e-13, 2.61855120e+00, 0.00000000e+00]],\n\n       [[1.84319530e+00, 1.57202945e+00, 2.35241595e-19, ...,\n         5.61762710e-38, 2.89755729e+00, 0.00000000e+00],\n        [1.84130614e+00, 1.57106351e+00, 1.98771078e-18, ...,\n         4.00934419e-36, 2.89280889e+00, 0.00000000e+00],\n        [1.83931941e+00, 1.57010416e+00, 1.50541410e-17, ...,\n         2.29890710e-34, 2.88792305e+00, 0.00000000e+00],\n        ...,\n        [1.78049835e+00, 1.47139966e+00, 2.81205253e-06, ...,\n         6.76897655e-12, 2.61982467e+00, 0.00000000e+00],\n        [1.78293003e+00, 1.46905588e+00, 6.83597352e-07, ...,\n         3.99940901e-13, 2.61922385e+00, 0.00000000e+00],\n        [1.78526191e+00, 1.46679261e+00, 1.45681077e-07, ...,\n         1.81605854e-14, 2.61860896e+00, 0.00000000e+00]]])"
     },
     "execution_count": 5,
     "metadata": {},
     "output_type": "execute_result"
    }
   ],
   "source": [
    "example_field"
   ],
   "metadata": {
    "collapsed": false,
    "pycharm": {
     "name": "#%%\n"
    }
   }
  },
  {
   "cell_type": "code",
   "execution_count": 6,
   "outputs": [
    {
     "data": {
      "text/plain": "263692"
     },
     "execution_count": 6,
     "metadata": {},
     "output_type": "execute_result"
    }
   ],
   "source": [
    "import importlib\n",
    "import unet_model\n",
    "unet_module = importlib.reload(unet_model)\n",
    "\n",
    "model = unet_model.UNet2()\n",
    "model.to_cuda()\n",
    "\n",
    "import numpy as np\n",
    "model_parameters = filter(lambda p: p.requires_grad, model.parameters())\n",
    "params = sum([np.prod(p.size()) for p in model_parameters])\n",
    "params"
   ],
   "metadata": {
    "collapsed": false,
    "pycharm": {
     "name": "#%%\n"
    }
   }
  },
  {
   "cell_type": "code",
   "execution_count": 22,
   "outputs": [],
   "source": [
    "def create_new_model(ModelClass: unet_model.UNet2):\n",
    "    model = ModelClass()\n",
    "    target_model = ModelClass()\n",
    "\n",
    "    #Загружаем модель на устройство, определенное в самом начале (GPU или CPU)\n",
    "    model.to_cuda()\n",
    "    target_model.to_cuda()\n",
    "\n",
    "    #Сразу зададим оптимизатор, с помощью которого будем обновлять веса модели\n",
    "    optimizer = optim.Adam(model.parameters(), lr=3e-4)\n",
    "\n",
    "    return model, target_model, optimizer\n",
    "\n",
    "\n",
    "def run_model(state, model):\n",
    "    model_input = torch.FloatTensor(state).to(device)\n",
    "    model_input = model_input.permute(0, 3, 1, 2)\n",
    "    model_output = model(model_input)\n",
    "    model_output = torch.flatten(model_output, start_dim=1)\n",
    "    return model_output\n",
    "\n",
    "\n",
    "def select_action(state, model, epsilon=0.05):\n",
    "    if random.random() < epsilon:\n",
    "        return [(random.randint(0, WEIGHT-1), random.randint(0, HEIGHT-1))]\n",
    "    actions_indexes = run_model(state, model).cpu().detach().numpy().argmax(1)\n",
    "\n",
    "    actions = []\n",
    "    for index in actions_indexes:\n",
    "        x = index // HEIGHT\n",
    "        y = index % HEIGHT\n",
    "        actions.append((x, y))\n",
    "\n",
    "    return actions\n",
    "\n",
    "def get_max_q(state, model):\n",
    "    model_output = run_model(state, model)\n",
    "\n",
    "    # находим максимальное значение - это и будет q функция\n",
    "    return model_output.max(1).values.view(-1)    # [BATCH_SIZE]"
   ],
   "metadata": {
    "collapsed": false,
    "pycharm": {
     "name": "#%%\n"
    }
   }
  },
  {
   "cell_type": "code",
   "execution_count": 11,
   "outputs": [],
   "source": [
    "input_example = np.stack([example_field, example_field])\n",
    "input_example = example_field[np.newaxis, ...]"
   ],
   "metadata": {
    "collapsed": false,
    "pycharm": {
     "name": "#%%\n"
    }
   }
  },
  {
   "cell_type": "code",
   "execution_count": 12,
   "outputs": [
    {
     "data": {
      "text/plain": "[(2, 2)]"
     },
     "execution_count": 12,
     "metadata": {},
     "output_type": "execute_result"
    }
   ],
   "source": [
    "select_action(input_example, model)"
   ],
   "metadata": {
    "collapsed": false,
    "pycharm": {
     "name": "#%%\n"
    }
   }
  },
  {
   "cell_type": "code",
   "execution_count": 13,
   "outputs": [
    {
     "data": {
      "text/plain": "tensor([2.9302], device='cuda:0', grad_fn=<ViewBackward0>)"
     },
     "execution_count": 13,
     "metadata": {},
     "output_type": "execute_result"
    }
   ],
   "source": [
    "get_max_q(input_example, model)"
   ],
   "metadata": {
    "collapsed": false,
    "pycharm": {
     "name": "#%%\n"
    }
   }
  },
  {
   "cell_type": "code",
   "execution_count": 13,
   "outputs": [],
   "source": [],
   "metadata": {
    "collapsed": false,
    "pycharm": {
     "name": "#%%\n"
    }
   }
  },
  {
   "cell_type": "code",
   "execution_count": 23,
   "outputs": [],
   "source": [
    "import torch.nn.functional as F\n",
    "\n",
    "\n",
    "gamma = 0.99\n",
    "def fit(batch, model, target_model, optimizer):\n",
    "    state, action, reward, next_state, done = batch\n",
    "\n",
    "    # преобразуем внутри функций\n",
    "    # state = torch.tensor(state).to(device).float()\n",
    "    # next_state = torch.tensor(next_state).to(device).float()\n",
    "\n",
    "    state = np.array(state)\n",
    "    next_state = np.array(next_state)\n",
    "    reward = torch.tensor(reward).to(device).float()\n",
    "    action = torch.tensor(action).to(device)\n",
    "    done = torch.tensor(done).to(device)\n",
    "\n",
    "    # Считаем то, какие значения должна выдавать наша сеть\n",
    "    with torch.no_grad():\n",
    "        # Выбираем максимальное из значений Q-function для следующего состояния\n",
    "        target_q = get_max_q(next_state, target_model)\n",
    "        target_q[done] = 0\n",
    "\n",
    "    target_q = reward + target_q * gamma\n",
    "\n",
    "\n",
    "    flatten_index = torch.LongTensor([i[0] * HEIGHT + i[1] for i in action]).to(device)\n",
    "    flatten_index = torch.unsqueeze(flatten_index, -1)\n",
    "\n",
    "    q = run_model(state, model).gather(1, flatten_index)\n",
    "\n",
    "    loss = F.mse_loss(q, target_q.unsqueeze(1))\n",
    "\n",
    "    # Очищаем текущие градиенты внутри сети\n",
    "    optimizer.zero_grad()\n",
    "\n",
    "    # Применяем обратное распространение ошибки\n",
    "    loss.backward()\n",
    "\n",
    "    # Ограничиваем значения градиента. Необходимо, чтобы обновления не были слишком большими\n",
    "    for param in model.parameters():\n",
    "        param.grad.data.clamp_(-1, 1)\n",
    "\n",
    "    # Делаем шаг оптимизации\n",
    "    optimizer.step()\n",
    "\n",
    "    print(\"model update... Ok\")"
   ],
   "metadata": {
    "collapsed": false,
    "pycharm": {
     "name": "#%%\n"
    }
   }
  },
  {
   "cell_type": "code",
   "execution_count": 24,
   "outputs": [],
   "source": [
    "class Memory:\n",
    "    def __init__(self, capacity):\n",
    "        self.capacity = capacity\n",
    "        self.memory = []\n",
    "        self.position = 0\n",
    "\n",
    "    def push(self, element: StateActionTransition):\n",
    "        \"\"\"Сохраняет элемент в циклический буфер\"\"\"\n",
    "        if len(self.memory) < self.capacity:\n",
    "            self.memory.append(None)\n",
    "        self.memory[self.position] = element\n",
    "        self.position = (self.position + 1) % self.capacity\n",
    "\n",
    "    def sample(self, batch_size):\n",
    "        \"\"\"Возвращает случайную выборку указанного размера\"\"\"\n",
    "        return list(zip(*random.sample(self.memory, batch_size)))\n",
    "\n",
    "    def __len__(self):\n",
    "        return len(self.memory)"
   ],
   "metadata": {
    "collapsed": false,
    "pycharm": {
     "name": "#%%\n"
    }
   }
  },
  {
   "cell_type": "code",
   "execution_count": 25,
   "outputs": [],
   "source": [
    "def make_reward_number(reward) -> float:\n",
    "    if not isinstance(reward, (float, np.float_)):\n",
    "        return reward[0]\n",
    "    return reward"
   ],
   "metadata": {
    "collapsed": false,
    "pycharm": {
     "name": "#%%\n"
    }
   }
  },
  {
   "cell_type": "code",
   "execution_count": 25,
   "outputs": [],
   "source": [],
   "metadata": {
    "collapsed": false,
    "pycharm": {
     "name": "#%%\n"
    }
   }
  },
  {
   "cell_type": "code",
   "execution_count": 26,
   "outputs": [
    {
     "data": {
      "text/plain": "[(1, 3, 2), (2, 5, 3), (3, 6, 4)]"
     },
     "execution_count": 26,
     "metadata": {},
     "output_type": "execute_result"
    }
   ],
   "source": [
    "mem = Memory(10)\n",
    "mem.push([1, 2, 3])\n",
    "mem.push([2, 3, 4])\n",
    "mem.push([3, 5, 6])\n",
    "mem.sample(3)"
   ],
   "metadata": {
    "collapsed": false,
    "pycharm": {
     "name": "#%%\n"
    }
   }
  },
  {
   "cell_type": "code",
   "execution_count": 26,
   "outputs": [],
   "source": [],
   "metadata": {
    "collapsed": false,
    "pycharm": {
     "name": "#%%\n"
    }
   }
  },
  {
   "cell_type": "code",
   "execution_count": 27,
   "outputs": [],
   "source": [
    "from tqdm import tqdm\n",
    "\n",
    "sampled_batch = None\n",
    "\n",
    "def train(env: BlackOilEnv):\n",
    "    global sampled_batch\n",
    "\n",
    "    #Количество обновлений model между обновлениями target model\n",
    "    target_update = 10\n",
    "\n",
    "    #Размер одного батча, который на вход принимает модель\n",
    "    batch_size = 8\n",
    "\n",
    "    #Количество шагов среды\n",
    "    max_steps = 1000\n",
    "\n",
    "    #Границы коэффициента exploration\n",
    "    epsilon = 0.25\n",
    "\n",
    "    #Создаем модель и буфер\n",
    "    memory = Memory(200)\n",
    "    model, target_model, optimizer = create_new_model(unet_model.UNet2)\n",
    "    rewards_by_target_updates = []\n",
    "\n",
    "    env.reset()\n",
    "    for step in tqdm(range(max_steps)):\n",
    "        state = env.observation\n",
    "\n",
    "        #Делаем шаг в среде\n",
    "\n",
    "        model_input = state[np.newaxis, ...]        # добавляем размерность батча\n",
    "\n",
    "        action = select_action(model_input, model, epsilon)[0]\n",
    "\n",
    "        new_state, reward, done = env.step(action)\n",
    "        reward = make_reward_number(reward)\n",
    "\n",
    "        #Запоминаем опыт и, если нужно, перезапускаем среду\n",
    "        memory.push((state, action, reward, new_state, done))\n",
    "        if done:\n",
    "              env.reset()\n",
    "\n",
    "        #Градиентный спуск\n",
    "        if step > batch_size:\n",
    "            sampled_batch = memory.sample(batch_size)\n",
    "            fit(sampled_batch, model, target_model, optimizer)\n",
    "\n",
    "        if (step+1) % target_update == 0:\n",
    "            target_model = copy.deepcopy(model)\n",
    "\n",
    "            #Exploitation\n",
    "            state = env.reset()\n",
    "            done = False\n",
    "            total_reward = 0\n",
    "            while not done:\n",
    "                model_input = state[np.newaxis, ...]        # добавляем размерность батча\n",
    "\n",
    "                action = select_action(model_input, target_model, epsilon=0)[0]\n",
    "\n",
    "                state, reward, done = env.step(action)\n",
    "                reward = make_reward_number(reward)\n",
    "                total_reward += reward\n",
    "            done = False\n",
    "            state = env.reset()\n",
    "            print(f\"Testing... Get reward: {total_reward}\")\n",
    "            rewards_by_target_updates.append(total_reward)\n",
    "\n",
    "    return rewards_by_target_updates"
   ],
   "metadata": {
    "collapsed": false,
    "pycharm": {
     "name": "#%%\n"
    }
   }
  },
  {
   "cell_type": "code",
   "execution_count": 28,
   "outputs": [],
   "source": [
    "from src.envs.envs import BlackOilEnv\n",
    "env = BlackOilEnv(days=3)"
   ],
   "metadata": {
    "collapsed": false,
    "pycharm": {
     "name": "#%%\n"
    }
   }
  },
  {
   "cell_type": "code",
   "execution_count": null,
   "outputs": [
    {
     "name": "stderr",
     "output_type": "stream",
     "text": [
      "  0%|          | 0/1000 [00:00<?, ?it/s]"
     ]
    }
   ],
   "source": [
    "train(env)"
   ],
   "metadata": {
    "collapsed": false,
    "pycharm": {
     "name": "#%%\n",
     "is_executing": true
    }
   }
  },
  {
   "cell_type": "code",
   "execution_count": null,
   "outputs": [],
   "source": [],
   "metadata": {
    "collapsed": false,
    "pycharm": {
     "name": "#%%\n"
    }
   }
  },
  {
   "cell_type": "code",
   "execution_count": null,
   "outputs": [],
   "source": [],
   "metadata": {
    "collapsed": false,
    "pycharm": {
     "name": "#%%\n"
    }
   }
  }
 ],
 "metadata": {
  "kernelspec": {
   "display_name": "Python 3",
   "language": "python",
   "name": "python3"
  },
  "language_info": {
   "codemirror_mode": {
    "name": "ipython",
    "version": 2
   },
   "file_extension": ".py",
   "mimetype": "text/x-python",
   "name": "python",
   "nbconvert_exporter": "python",
   "pygments_lexer": "ipython2",
   "version": "2.7.6"
  }
 },
 "nbformat": 4,
 "nbformat_minor": 0
}