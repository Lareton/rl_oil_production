{
 "cells": [
  {
   "cell_type": "code",
   "execution_count": 1,
   "metadata": {
    "collapsed": true
   },
   "outputs": [],
   "source": [
    "import torch.nn as nn\n",
    "import torch\n",
    "from torch import optim\n",
    "import copy\n",
    "import pickle\n",
    "from sim_data_generation import  StateActionTransition\n",
    "import random\n",
    "WEIGHT, HEIGHT = 40, 80\n",
    "\n",
    "device = torch.device(\"cuda\")"
   ]
  },
  {
   "cell_type": "code",
   "execution_count": 2,
   "outputs": [],
   "source": [
    "with open(\"saved_results_5.pkl\", \"rb\") as f:\n",
    "    data = pickle.load(f)"
   ],
   "metadata": {
    "collapsed": false,
    "pycharm": {
     "name": "#%%\n"
    }
   }
  },
  {
   "cell_type": "code",
   "execution_count": 3,
   "outputs": [],
   "source": [
    "res = []\n",
    "\n",
    "for i in data:\n",
    "    for j in i:\n",
    "        res.append(j)"
   ],
   "metadata": {
    "collapsed": false,
    "pycharm": {
     "name": "#%%\n"
    }
   }
  },
  {
   "cell_type": "code",
   "execution_count": 4,
   "outputs": [
    {
     "data": {
      "text/plain": "128"
     },
     "execution_count": 4,
     "metadata": {},
     "output_type": "execute_result"
    }
   ],
   "source": [
    "len(res)"
   ],
   "metadata": {
    "collapsed": false,
    "pycharm": {
     "name": "#%%\n"
    }
   }
  },
  {
   "cell_type": "code",
   "execution_count": 5,
   "outputs": [],
   "source": [
    "example_dqn = res[1]"
   ],
   "metadata": {
    "collapsed": false,
    "pycharm": {
     "name": "#%%\n"
    }
   }
  },
  {
   "cell_type": "code",
   "execution_count": 6,
   "outputs": [],
   "source": [
    "example_field = example_dqn.state"
   ],
   "metadata": {
    "collapsed": false,
    "pycharm": {
     "name": "#%%\n"
    }
   }
  },
  {
   "cell_type": "code",
   "execution_count": 7,
   "outputs": [],
   "source": [],
   "metadata": {
    "collapsed": false,
    "pycharm": {
     "name": "#%%\n"
    }
   }
  },
  {
   "cell_type": "code",
   "execution_count": 40,
   "outputs": [],
   "source": [
    "def get_conv_block(in_channel, out_channel, kernel_size=(3, 3)):\n",
    "    return  nn.Sequential(\n",
    "            nn.Conv2d(in_channels=in_channel,\n",
    "                      out_channels=out_channel,\n",
    "                      padding=1,\n",
    "                      kernel_size=kernel_size),\n",
    "            nn.BatchNorm2d(out_channel),\n",
    "            nn.ReLU(),\n",
    "\n",
    "            nn.Conv2d(in_channels=out_channel,\n",
    "                      out_channels=out_channel,\n",
    "                      padding=1,\n",
    "                      kernel_size=kernel_size),\n",
    "            nn.BatchNorm2d(out_channel),\n",
    "            nn.ReLU()\n",
    "        )"
   ],
   "metadata": {
    "collapsed": false,
    "pycharm": {
     "name": "#%%\n"
    }
   }
  },
  {
   "cell_type": "code",
   "execution_count": 41,
   "outputs": [],
   "source": [
    "def get_deconv_block(in_channel, out_channel, kernel_size=(3, 3)):\n",
    "    return  nn.Sequential(\n",
    "        nn.ConvTranspose2d(in_channels=in_channel,\n",
    "                           out_channels=out_channel,\n",
    "                           padding=1,\n",
    "                           kernel_size=kernel_size),\n",
    "        nn.BatchNorm2d(out_channel),\n",
    "        nn.ReLU(),\n",
    "\n",
    "        nn.ConvTranspose2d(in_channels=out_channel,\n",
    "                           out_channels=out_channel,\n",
    "                           padding=1,\n",
    "                           kernel_size=kernel_size),\n",
    "        nn.BatchNorm2d(out_channel),\n",
    "        nn.ReLU())"
   ],
   "metadata": {
    "collapsed": false,
    "pycharm": {
     "name": "#%%\n"
    }
   }
  },
  {
   "cell_type": "code",
   "execution_count": 90,
   "outputs": [],
   "source": [
    "class Unet(nn.Module):\n",
    "    def __init__(self):\n",
    "        super().__init__()\n",
    "\n",
    "        self.enc_conv0 = get_conv_block(8, 16)\n",
    "        self.pool0 = nn.MaxPool2d(kernel_size=2, stride=2, return_indices=True)   # 256 -> 128\n",
    "\n",
    "        self.enc_conv1 = get_conv_block(16, 16)\n",
    "        self.pool1 = nn.MaxPool2d(kernel_size=2, stride=2, return_indices=True) # 128 -> 64\n",
    "\n",
    "        self.enc_conv2 = get_conv_block(16, 32)\n",
    "        self.pool2 = nn.MaxPool2d(kernel_size=2, return_indices=True)  # 64 -> 32\n",
    "\n",
    "        # decoder (upsampling)\n",
    "        self.upsample0 = nn.MaxUnpool2d(kernel_size=2) # 16 -> 32\n",
    "        self.dec_conv0 = get_deconv_block(32, 16)\n",
    "\n",
    "        self.upsample1 = nn.MaxUnpool2d(kernel_size=2) # 32 -> 64\n",
    "        self.dec_conv1 = get_deconv_block(16, 16)\n",
    "\n",
    "        self.upsample2 = nn.MaxUnpool2d(kernel_size=2) # 64 -> 128\n",
    "        self.dec_conv2 = get_deconv_block(16, 1)\n",
    "\n",
    "\n",
    "    def forward(self, x):\n",
    "        # encoder\n",
    "        e0, ind0 = self.pool0(self.enc_conv0(x))\n",
    "        e1, ind1 = self.pool1(self.enc_conv1(e0))\n",
    "        e2, ind2 = self.pool2(self.enc_conv2(e1))\n",
    "\n",
    "        # decoder\n",
    "        d0 = self.dec_conv0(self.upsample0(e2, indices=ind2, output_size=e1.size()))\n",
    "        d1 = self.dec_conv1(self.upsample1(d0, indices=ind1, output_size=e0.size()))\n",
    "        d2 = self.dec_conv2(self.upsample2(d1, indices=ind0,))\n",
    "        return d2"
   ],
   "metadata": {
    "collapsed": false,
    "pycharm": {
     "name": "#%%\n"
    }
   }
  },
  {
   "cell_type": "code",
   "execution_count": 112,
   "outputs": [],
   "source": [
    "class conv2DBatchNormRelu(nn.Module):\n",
    "    def __init__(self, in_channels, n_filters, k_size, stride, padding):\n",
    "        super(conv2DBatchNormRelu, self).__init__()\n",
    "\n",
    "        self.unit = nn.Sequential(\n",
    "            nn.Conv2d(int(in_channels), int(n_filters), kernel_size=k_size, padding=padding, stride=stride),\n",
    "            nn.BatchNorm2d(int(n_filters)),\n",
    "            nn.ReLU(inplace=True)\n",
    "        )\n",
    "\n",
    "    def forward(self, inputs):\n",
    "        return self.unit(inputs)\n"
   ],
   "metadata": {
    "collapsed": false,
    "pycharm": {
     "name": "#%%\n"
    }
   }
  },
  {
   "cell_type": "code",
   "execution_count": 119,
   "outputs": [],
   "source": [
    "class UNet2(nn.Module):\n",
    "    def __init__(self):\n",
    "        super().__init__()\n",
    "\n",
    "        self.enc_conv0 = nn.Sequential(\n",
    "            conv2DBatchNormRelu(8, 64, 3, 1, 1),\n",
    "            conv2DBatchNormRelu(64, 64, 3, 1, 1)\n",
    "        )\n",
    "        self.pool0 = nn.Conv2d(64, 64, kernel_size=3, stride=2, padding=1)\n",
    "\n",
    "\n",
    "        self.enc_conv1 = nn.Sequential(\n",
    "            conv2DBatchNormRelu(64, 128, 3, 1, 1),\n",
    "            conv2DBatchNormRelu(128, 128, 3, 1, 1),\n",
    "        )\n",
    "        self.pool1 = nn.Conv2d(128, 128, kernel_size=3, stride=2, padding=1)\n",
    "\n",
    "        self.enc_conv2 = nn.Sequential(\n",
    "            conv2DBatchNormRelu(128, 256, 3, 1, 1),\n",
    "            conv2DBatchNormRelu(256, 256, 3, 1, 1),\n",
    "            conv2DBatchNormRelu(256, 256, 3, 1, 1)\n",
    "        )\n",
    "        self.pool2 = nn.Conv2d(256, 256, kernel_size=3, stride=2, padding=1)\n",
    "\n",
    "        self.enc_conv3 = nn.Sequential(\n",
    "            conv2DBatchNormRelu(256, 512, 3, 1, 1),\n",
    "            conv2DBatchNormRelu(512, 512, 3, 1, 1),\n",
    "            conv2DBatchNormRelu(512, 512, 3, 1, 1)\n",
    "        )\n",
    "        self.pool3 = nn.Conv2d(512, 512, kernel_size=3, stride=2, padding=1) # 32 -> 16\n",
    "\n",
    "        # bottleneck\n",
    "        self.bottle_neck = nn.Sequential(\n",
    "            conv2DBatchNormRelu(512, 1024, 1, 1, 0),\n",
    "            conv2DBatchNormRelu(1024, 512, 1, 1, 0)\n",
    "        )\n",
    "\n",
    "\n",
    "        self.upsample3 =  nn.ConvTranspose2d(512, 512, kernel_size=3, stride=2, padding=1)\n",
    "        self.dec_conv3 = nn.Sequential(\n",
    "            conv2DBatchNormRelu(512*2, 256, 3, 1, 1),\n",
    "            conv2DBatchNormRelu(256, 256, 3, 1, 1),\n",
    "            conv2DBatchNormRelu(256, 256, 3, 1, 1),\n",
    "        )\n",
    "\n",
    "        self.upsample2 =  nn.ConvTranspose2d(256, 256, kernel_size=3, stride=2, padding=1)\n",
    "        self.dec_conv2 = nn.Sequential(\n",
    "            conv2DBatchNormRelu(256*2, 128, 3, 1, 1),\n",
    "            conv2DBatchNormRelu(128, 128, 3, 1, 1),\n",
    "            conv2DBatchNormRelu(128, 128, 3, 1, 1),\n",
    "        )\n",
    "\n",
    "        self.upsample1 =  nn.ConvTranspose2d(128, 128, kernel_size=3, stride=2, padding=1) # 64 -> 128\n",
    "        self.dec_conv1 = nn.Sequential(\n",
    "            conv2DBatchNormRelu(128*2, 64, 3, 1, 1),\n",
    "            conv2DBatchNormRelu(64, 64, 3, 1, 1),\n",
    "        )\n",
    "\n",
    "        self.upsample0 =  nn.ConvTranspose2d(64, 64, kernel_size=3, stride=2, padding=1)\n",
    "        self.dec_conv0 = nn.Sequential(\n",
    "            conv2DBatchNormRelu(64*2, 1, 3, 1, 1),\n",
    "            conv2DBatchNormRelu(1, 1, 3, 1, 1),\n",
    "\n",
    "            nn.Conv2d(1, 1, kernel_size=3, stride=1, padding=1),\n",
    "            nn.BatchNorm2d(1),\n",
    "        )\n",
    "\n",
    "    def forward(self, x):\n",
    "        # encoder\n",
    "        e0_0 = self.enc_conv0(x)\n",
    "        e0_1 = self.pool0(e0_0)\n",
    "\n",
    "        e1_0 = self.enc_conv1(e0_1)\n",
    "        e1_1 = self.pool1(e1_0)\n",
    "\n",
    "        e2_0 = self.enc_conv2(e1_1)\n",
    "        e2_1 = self.pool2(e2_0)\n",
    "\n",
    "        e3_0 = self.enc_conv3(e2_1)\n",
    "        e3_1 = self.pool3(e3_0)\n",
    "\n",
    "        # bottleneck\n",
    "        b = self.bottle_neck(e3_1)\n",
    "\n",
    "        d3 = self.dec_conv3(torch.cat([self.upsample3(b, output_size=e3_0.size()), e3_0], 1))\n",
    "        d2 = self.dec_conv2(torch.cat([self.upsample2(d3, output_size=e2_0.size()), e2_0], 1))\n",
    "        d1 = self.dec_conv1(torch.cat([self.upsample1(d2, output_size=e1_0.size()), e1_0], 1))\n",
    "        d0 = self.dec_conv0(torch.cat([self.upsample0(d1, output_size=e0_0.size()), e0_0], 1))\n",
    "\n",
    "        return d0"
   ],
   "metadata": {
    "collapsed": false,
    "pycharm": {
     "name": "#%%\n"
    }
   }
  },
  {
   "cell_type": "code",
   "execution_count": 232,
   "outputs": [],
   "source": [
    "import importlib\n",
    "import unet_model\n",
    "unet_module = importlib.reload(unet_model)"
   ],
   "metadata": {
    "collapsed": false,
    "pycharm": {
     "name": "#%%\n"
    }
   }
  },
  {
   "cell_type": "code",
   "execution_count": 233,
   "outputs": [],
   "source": [
    "model = unet_model.UNet2()"
   ],
   "metadata": {
    "collapsed": false,
    "pycharm": {
     "name": "#%%\n"
    }
   }
  },
  {
   "cell_type": "code",
   "execution_count": 234,
   "outputs": [],
   "source": [
    "input = torch.FloatTensor(example_field)\n",
    "input = input.permute(2, 0, 1)\n",
    "input = input.unsqueeze(0)"
   ],
   "metadata": {
    "collapsed": false,
    "pycharm": {
     "name": "#%%\n"
    }
   }
  },
  {
   "cell_type": "code",
   "execution_count": 235,
   "outputs": [
    {
     "data": {
      "text/plain": "torch.Size([1, 8, 40, 80])"
     },
     "execution_count": 235,
     "metadata": {},
     "output_type": "execute_result"
    }
   ],
   "source": [
    "input.shape"
   ],
   "metadata": {
    "collapsed": false,
    "pycharm": {
     "name": "#%%\n"
    }
   }
  },
  {
   "cell_type": "code",
   "execution_count": 236,
   "outputs": [
    {
     "data": {
      "text/plain": "UNet2(\n  (bottle_neck): Sequential(\n    (0): conv2DBatchNormRelu(\n      (unit): Sequential(\n        (0): Conv2d(512, 512, kernel_size=(1, 1), stride=(1, 1))\n        (1): BatchNorm2d(512, eps=1e-05, momentum=0.1, affine=True, track_running_stats=True)\n        (2): ReLU(inplace=True)\n      )\n    )\n  )\n  (last_block): Sequential(\n    (0): Conv2d(1, 1, kernel_size=(3, 3), stride=(1, 1), padding=(1, 1))\n    (1): BatchNorm2d(1, eps=1e-05, momentum=0.1, affine=True, track_running_stats=True)\n  )\n)"
     },
     "execution_count": 236,
     "metadata": {},
     "output_type": "execute_result"
    }
   ],
   "source": [
    "model"
   ],
   "metadata": {
    "collapsed": false,
    "pycharm": {
     "name": "#%%\n"
    }
   }
  },
  {
   "cell_type": "code",
   "execution_count": 237,
   "outputs": [
    {
     "data": {
      "text/plain": "torch.Size([40, 80])"
     },
     "execution_count": 237,
     "metadata": {},
     "output_type": "execute_result"
    }
   ],
   "source": [
    "model(input).max(0).values[0, ...].shape"
   ],
   "metadata": {
    "collapsed": false,
    "pycharm": {
     "name": "#%%\n"
    }
   }
  },
  {
   "cell_type": "code",
   "execution_count": 225,
   "outputs": [
    {
     "data": {
      "text/plain": "263692"
     },
     "execution_count": 225,
     "metadata": {},
     "output_type": "execute_result"
    }
   ],
   "source": [
    "import numpy as np\n",
    "model_parameters = filter(lambda p: p.requires_grad, model.parameters())\n",
    "params = sum([np.prod(p.size()) for p in model_parameters])\n",
    "params"
   ],
   "metadata": {
    "collapsed": false,
    "pycharm": {
     "name": "#%%\n"
    }
   }
  },
  {
   "cell_type": "code",
   "execution_count": 198,
   "outputs": [
    {
     "data": {
      "text/plain": "Sequential(\n  (0): conv2DBatchNormRelu(\n    (unit): Sequential(\n      (0): Conv2d(512, 512, kernel_size=(1, 1), stride=(1, 1))\n      (1): BatchNorm2d(512, eps=1e-05, momentum=0.1, affine=True, track_running_stats=True)\n      (2): ReLU(inplace=True)\n    )\n  )\n)"
     },
     "execution_count": 198,
     "metadata": {},
     "output_type": "execute_result"
    }
   ],
   "source": [
    "model.bottle_neck"
   ],
   "metadata": {
    "collapsed": false,
    "pycharm": {
     "name": "#%%\n"
    }
   }
  },
  {
   "cell_type": "code",
   "execution_count": 96,
   "outputs": [],
   "source": [
    "def create_new_model(model_class):\n",
    "    model = copy.deepcopy(model_class())\n",
    "    target_model = copy.deepcopy(model_class())\n",
    "\n",
    "    #Загружаем модель на устройство, определенное в самом начале (GPU или CPU)\n",
    "    model.to(device)\n",
    "    target_model.to(device)\n",
    "\n",
    "    #Сразу зададим оптимизатор, с помощью которого будем обновлять веса модели\n",
    "    optimizer = optim.Adam(model.parameters(), lr=3e-4)\n",
    "\n",
    "    return model, target_model, optimizer"
   ],
   "metadata": {
    "collapsed": false,
    "pycharm": {
     "name": "#%%\n"
    }
   }
  },
  {
   "cell_type": "code",
   "execution_count": 72,
   "outputs": [],
   "source": [
    "import torch.nn.functional as F\n",
    "\n",
    "gamma = 0.99\n",
    "def fit(batch, model, target_model, optimizer):\n",
    "    state, action, reward, next_state, done = batch\n",
    "\n",
    "    # Загружаем батч на выбранное ранее устройство\n",
    "    state = torch.tensor(state).to(device).float()\n",
    "    next_state = torch.tensor(next_state).to(device).float()\n",
    "    reward = torch.tensor(reward).to(device).float()\n",
    "    action = torch.tensor(action).to(device)\n",
    "    done = torch.tensor(done).to(device)\n",
    "\n",
    "    # Считаем то, какие значения должна выдавать наша сеть\n",
    "    # target_q = torch.zeros(reward.size()[0]).float().to(device)\n",
    "    with torch.no_grad():\n",
    "        # Выбираем максимальное из значений Q-function для следующего состояния\n",
    "        target_q = target_model(next_state).max(1)[0].view(-1)\n",
    "        target_q[done] = 0\n",
    "    target_q = reward + target_q * gamma\n",
    "\n",
    "    # Текущее предсказание\n",
    "    q = model(state).gather(1, action.unsqueeze(1))\n",
    "\n",
    "    loss = F.mse_loss(q, target_q.unsqueeze(1))\n",
    "\n",
    "    # Очищаем текущие градиенты внутри сети\n",
    "    optimizer.zero_grad()\n",
    "\n",
    "    # Применяем обратное распространение ошибки\n",
    "    loss.backward()\n",
    "\n",
    "    # Ограничиваем значения градиента. Необходимо, чтобы обновления не были слишком большими\n",
    "    for param in model.parameters():\n",
    "        param.grad.data.clamp_(-1, 1)\n",
    "\n",
    "    # Делаем шаг оптимизации\n",
    "    optimizer.step()"
   ],
   "metadata": {
    "collapsed": false,
    "pycharm": {
     "name": "#%%\n"
    }
   }
  },
  {
   "cell_type": "code",
   "execution_count": 122,
   "outputs": [],
   "source": [
    "\n",
    "def select_action(state, epsilon, model):\n",
    "    model_input = torch.FloatTensor(state).to(device)\n",
    "    model_input = model_input.permute(2, 0, 1)\n",
    "\n",
    "    if random.random() < epsilon:\n",
    "        return float(random.randint(0, WEIGHT)),\\\n",
    "               float(random.randint(0, HEIGHT))\n",
    "\n",
    "    model_output = model(model_input).to(\"cpu\").detach().numpy()\n",
    "    x, y = model_output\n",
    "    x = round(x)\n",
    "    y = round(y)\n",
    "    return x, y"
   ],
   "metadata": {
    "collapsed": false,
    "pycharm": {
     "name": "#%%\n"
    }
   }
  },
  {
   "cell_type": "code",
   "execution_count": 123,
   "outputs": [
    {
     "data": {
      "text/plain": "(0, 0)"
     },
     "execution_count": 123,
     "metadata": {},
     "output_type": "execute_result"
    }
   ],
   "source": [
    "model = big_model.to(device)\n",
    "select_action(example_field, model=model, epsilon=0.05)"
   ],
   "metadata": {
    "collapsed": false,
    "pycharm": {
     "name": "#%%\n"
    }
   }
  },
  {
   "cell_type": "code",
   "execution_count": null,
   "outputs": [],
   "source": [],
   "metadata": {
    "collapsed": false,
    "pycharm": {
     "name": "#%%\n"
    }
   }
  },
  {
   "cell_type": "code",
   "execution_count": 76,
   "outputs": [],
   "source": [
    "class Memory:\n",
    "    def __init__(self, capacity):\n",
    "        self.capacity = capacity\n",
    "        self.memory = []\n",
    "        self.position = 0\n",
    "\n",
    "    def push(self, element: StateActionTransition):\n",
    "        \"\"\"Сохраняет элемент в циклический буфер\"\"\"\n",
    "        if len(self.memory) < self.capacity:\n",
    "            self.memory.append(None)\n",
    "        self.memory[self.position] = element\n",
    "        self.position = (self.position + 1) % self.capacity\n",
    "\n",
    "    def sample(self, batch_size):\n",
    "        \"\"\"Возвращает случайную выборку указанного размера\"\"\"\n",
    "        return list(zip(*random.sample(self.memory, batch_size)))\n",
    "\n",
    "    def __len__(self):\n",
    "        return len(self.memory)"
   ],
   "metadata": {
    "collapsed": false,
    "pycharm": {
     "name": "#%%\n"
    }
   }
  },
  {
   "cell_type": "code",
   "execution_count": null,
   "outputs": [],
   "source": [
    "\n",
    "\n",
    "def train():\n",
    "    #Количество обновлений model между обновлениями target model\n",
    "    target_update = 500\n",
    "\n",
    "    #Размер одного батча, который на вход принимает модель\n",
    "    batch_size = 64\n",
    "\n",
    "    #Количество шагов среды\n",
    "    max_steps = 5000\n",
    "\n",
    "    #Границы коэффициента exploration\n",
    "    max_epsilon = 0.5\n",
    "    min_epsilon = 0.1\n",
    "\n",
    "    #Создаем модель и буфер\n",
    "    memory = Memory(2000)\n",
    "    model, target_model, optimizer = create_new_model(big_model)\n",
    "    rewards_by_target_updates = []\n",
    "\n",
    "    for step in range(max_steps):\n",
    "        #Делаем шаг в среде\n",
    "        epsilon = max_epsilon - (max_epsilon - min_epsilon) * step / max_steps\n",
    "        action = select_action(state, epsilon, model)\n",
    "        new_state, reward, done, _ = env.step(action)\n",
    "\n",
    "        #Запоминаем опыт и, если нужно, перезапускаем среду\n",
    "        memory.push((state, action, reward, new_state, done))\n",
    "        if done:\n",
    "              state = env.reset()\n",
    "              done = False\n",
    "        else:\n",
    "              state = new_state\n",
    "\n",
    "        #Градиентный спуск\n",
    "        if step > batch_size:\n",
    "             fit(memory.sample(batch_size), model, target_model, optimizer)\n",
    "\n",
    "        if step % target_update == 0:\n",
    "            target_model = copy.deepcopy(model)\n",
    "\n",
    "            #Exploitation\n",
    "            state = env.reset()\n",
    "            total_reward = 0\n",
    "            while not done:\n",
    "                action = select_action(state, 0, target_model)\n",
    "                state, reward, done, _ = env.step(action)\n",
    "                total_reward += reward\n",
    "\n",
    "            done = False\n",
    "            state = env.reset()\n",
    "            rewards_by_target_updates.append(total_reward)\n",
    "\n",
    "    return rewards_by_target_updates"
   ],
   "metadata": {
    "collapsed": false,
    "pycharm": {
     "name": "#%%\n"
    }
   }
  },
  {
   "cell_type": "code",
   "execution_count": null,
   "outputs": [],
   "source": [],
   "metadata": {
    "collapsed": false,
    "pycharm": {
     "name": "#%%\n"
    }
   }
  },
  {
   "cell_type": "code",
   "execution_count": null,
   "outputs": [],
   "source": [],
   "metadata": {
    "collapsed": false,
    "pycharm": {
     "name": "#%%\n"
    }
   }
  }
 ],
 "metadata": {
  "kernelspec": {
   "display_name": "Python 3",
   "language": "python",
   "name": "python3"
  },
  "language_info": {
   "codemirror_mode": {
    "name": "ipython",
    "version": 2
   },
   "file_extension": ".py",
   "mimetype": "text/x-python",
   "name": "python",
   "nbconvert_exporter": "python",
   "pygments_lexer": "ipython2",
   "version": "2.7.6"
  }
 },
 "nbformat": 4,
 "nbformat_minor": 0
}